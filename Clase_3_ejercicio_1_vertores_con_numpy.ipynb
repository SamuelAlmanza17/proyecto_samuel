{
  "cells": [
    {
      "cell_type": "markdown",
      "metadata": {
        "id": "view-in-github",
        "colab_type": "text"
      },
      "source": [
        "<a href=\"https://colab.research.google.com/github/SamuelAlmanza17/proyecto_samuel/blob/main/Clase_3_ejercicio_1_vertores_con_numpy.ipynb\" target=\"_parent\"><img src=\"https://colab.research.google.com/assets/colab-badge.svg\" alt=\"Open In Colab\"/></a>"
      ]
    },
    {
      "cell_type": "code",
      "source": [
        "#APRENDIENDO A USAR NUMPY para vectores\n",
        "\n",
        "import numpy as np #importar la libreria numpy para hacer arrays\n",
        "\n",
        "array_basico = np.array([1,2,3,4,5]) #hacer un array de datos\n",
        "array_basico #mostrar todo el array\n",
        "\n",
        "array_basico[0] #pedir la posición 0 del array\n",
        "\n",
        "array_basico[0]=10 #reemplazar la posición 0 a otro valor, en este caso 10\n",
        "array_basico\n",
        "\n",
        "\n"
      ],
      "metadata": {
        "id": "TfW_ArRrBZBZ",
        "outputId": "07de3cbd-0e76-48e8-a43b-2bb922edf668",
        "colab": {
          "base_uri": "https://localhost:8080/"
        }
      },
      "execution_count": null,
      "outputs": [
        {
          "output_type": "execute_result",
          "data": {
            "text/plain": [
              "array([10,  2,  3,  4,  5])"
            ]
          },
          "metadata": {},
          "execution_count": 3
        }
      ]
    },
    {
      "cell_type": "code",
      "source": [
        "import numpy as np #importar la libreria numpy para hacer arrays\n",
        "\n",
        "array_basico = np.array([1,2,3,4,5]) #hacer un array de datos\n",
        "\n",
        "array_basico = array_basico * 1.6\n",
        "print(\"este es el nuevo valor del array multiplocado por 1.6: \", array_basico)"
      ],
      "metadata": {
        "id": "KbXz4G-DBsTi",
        "outputId": "ae12bc12-31be-46dc-9677-a281784a1088",
        "colab": {
          "base_uri": "https://localhost:8080/"
        }
      },
      "execution_count": null,
      "outputs": [
        {
          "output_type": "stream",
          "name": "stdout",
          "text": [
            "este es el nuevo valor del array multiplocado por 1.6:  [1.6 3.2 4.8 6.4 8. ]\n"
          ]
        }
      ]
    },
    {
      "cell_type": "code",
      "source": [
        "import numpy as np #importar la libreria numpy para hacer arrays\n",
        "\n",
        "array_basico = np.array([1,2,3,4,5]) #hacer un array de datos\n",
        "\n",
        "print(\"este es el valor más grande: \", array_basico.max())"
      ],
      "metadata": {
        "id": "LhNoBjk2Bs2K",
        "outputId": "d01e0dcc-54f1-4084-876f-3f290b4a2dbe",
        "colab": {
          "base_uri": "https://localhost:8080/"
        }
      },
      "execution_count": null,
      "outputs": [
        {
          "output_type": "stream",
          "name": "stdout",
          "text": [
            "este es el valor más grande:  5\n"
          ]
        }
      ]
    },
    {
      "cell_type": "code",
      "source": [
        "import numpy as np #importar la libreria numpy para hacer arrays\n",
        "\n",
        "array_basico = np.array([1,2,3,4,5]) #hacer un array de datos\n",
        "\n",
        "print(\"este es el valor minimo: \", array_basico.min())"
      ],
      "metadata": {
        "id": "_3Kv4Cg5EfxY",
        "outputId": "cb4b41fc-f1cb-4eab-bd11-90cb685a5d49",
        "colab": {
          "base_uri": "https://localhost:8080/"
        }
      },
      "execution_count": null,
      "outputs": [
        {
          "output_type": "stream",
          "name": "stdout",
          "text": [
            "este es el valor minimo:  1\n"
          ]
        }
      ]
    },
    {
      "cell_type": "code",
      "source": [
        "import numpy as np #importar la libreria numpy para hacer arrays\n",
        "\n",
        "array_basico = np.array([1,2,3,4,5]) #hacer un array de datos\n",
        "\n",
        "print(\"esta es la suma de todos los valores en el array: \", array_basico.sum())"
      ],
      "metadata": {
        "id": "tCQ1RH9cEkx_",
        "outputId": "218e44ef-21db-4232-806c-10637547e60f",
        "colab": {
          "base_uri": "https://localhost:8080/"
        }
      },
      "execution_count": null,
      "outputs": [
        {
          "output_type": "stream",
          "name": "stdout",
          "text": [
            "esta es la suma de todos los valores en el array:  15\n"
          ]
        }
      ]
    }
  ],
  "metadata": {
    "colab": {
      "provenance": [],
      "include_colab_link": true
    },
    "kernelspec": {
      "display_name": "Python 3",
      "name": "python3"
    }
  },
  "nbformat": 4,
  "nbformat_minor": 0
}