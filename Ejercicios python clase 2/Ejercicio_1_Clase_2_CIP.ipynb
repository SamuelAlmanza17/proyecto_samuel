{
  "nbformat": 4,
  "nbformat_minor": 0,
  "metadata": {
    "colab": {
      "provenance": [],
      "authorship_tag": "ABX9TyMt/xuiQ3g8lYTZdziVBMmT",
      "include_colab_link": true
    },
    "kernelspec": {
      "name": "python3",
      "display_name": "Python 3"
    },
    "language_info": {
      "name": "python"
    }
  },
  "cells": [
    {
      "cell_type": "markdown",
      "metadata": {
        "id": "view-in-github",
        "colab_type": "text"
      },
      "source": [
        "<a href=\"https://colab.research.google.com/github/SamuelAlmanza17/proyecto_samuel/blob/ejercicios-modulo-1/Ejercicio_1_Clase_2_CIP.ipynb\" target=\"_parent\"><img src=\"https://colab.research.google.com/assets/colab-badge.svg\" alt=\"Open In Colab\"/></a>"
      ]
    },
    {
      "cell_type": "code",
      "execution_count": 1,
      "metadata": {
        "id": "z63kk5JM5cB5"
      },
      "outputs": [],
      "source": [
        "#Ejercicio 1"
      ]
    },
    {
      "cell_type": "code",
      "source": [
        "edad = int (input(\"Ingrese su edad: \"))\n",
        "Nombre = (input(\"Ingrese su nombre: \"))\n",
        "\n",
        "primera_letra = Nombre[0].upper()\n",
        "\n",
        "if edad < 18 and primera_letra in 'AEIOU':\n",
        "    print(\"Perteneces al grupo 1.\")\n",
        "elif edad >= 18 and primera_letra not in 'AEIOU':\n",
        "    print(\"Perteneces al grupo 2.\")\n",
        "else:\n",
        "    print(\"Perteneces al grupo 3.\")"
      ],
      "metadata": {
        "colab": {
          "base_uri": "https://localhost:8080/"
        },
        "id": "ym-RLYKP5se4",
        "outputId": "0cafbd18-9e69-449c-db8d-d2768057d177"
      },
      "execution_count": 8,
      "outputs": [
        {
          "output_type": "stream",
          "name": "stdout",
          "text": [
            "Ingrese su edad: 20\n",
            "Ingrese su nombre: Andres\n",
            "Perteneces al grupo 3.\n"
          ]
        }
      ]
    },
    {
      "cell_type": "code",
      "source": [],
      "metadata": {
        "id": "qVIr4zEU5_SS"
      },
      "execution_count": null,
      "outputs": []
    }
  ]
}