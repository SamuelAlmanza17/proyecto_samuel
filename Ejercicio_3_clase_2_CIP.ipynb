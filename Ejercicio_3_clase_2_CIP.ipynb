{
  "nbformat": 4,
  "nbformat_minor": 0,
  "metadata": {
    "colab": {
      "provenance": [],
      "authorship_tag": "ABX9TyO95V/9kM0lSmPkVBDUPjGR",
      "include_colab_link": true
    },
    "kernelspec": {
      "name": "python3",
      "display_name": "Python 3"
    },
    "language_info": {
      "name": "python"
    }
  },
  "cells": [
    {
      "cell_type": "markdown",
      "metadata": {
        "id": "view-in-github",
        "colab_type": "text"
      },
      "source": [
        "<a href=\"https://colab.research.google.com/github/SamuelAlmanza17/proyecto_samuel/blob/ejercicios-modulo-1/Ejercicio_3_clase_2_CIP.ipynb\" target=\"_parent\"><img src=\"https://colab.research.google.com/assets/colab-badge.svg\" alt=\"Open In Colab\"/></a>"
      ]
    },
    {
      "cell_type": "code",
      "execution_count": null,
      "metadata": {
        "id": "QbY1Zg62Cg5o"
      },
      "outputs": [],
      "source": [
        "#EJERCICIO 3\n",
        "puntuacion = float(input(\"Ingrese su puntuación: \"))\n",
        "\n",
        "if puntuacion == 1.0:\n",
        "  nivel = \"bajo\"\n",
        "elif puntuacion == 1.5:\n",
        "  nivel = \"medio\"\n",
        "elif puntuacion == 2.0:\n",
        "  nivel = \"alto\"\n",
        "elif puntuacion >= 2.5:\n",
        "  nivel = \"excelente\"\n",
        "else:\n",
        "  nivel = \"puntuación inválida\"\n",
        "\n",
        "print(\"Su nivel es:\", nivel)\n",
        "\n",
        "if puntuacion >= 1.0:\n",
        "  bono = puntuacion * 3000000\n",
        "  print(f\"El bono que recibirá es de: ${bono:,.0f}\")\n",
        "else:\n",
        "  print(\"La puntuación ingresada no es válida para un bono.\")\n"
      ]
    },
    {
      "cell_type": "code",
      "source": [],
      "metadata": {
        "id": "kKqmIKTmHUn0"
      },
      "execution_count": null,
      "outputs": []
    }
  ]
}