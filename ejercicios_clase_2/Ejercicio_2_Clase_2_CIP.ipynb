{
  "nbformat": 4,
  "nbformat_minor": 0,
  "metadata": {
    "colab": {
      "provenance": [],
      "authorship_tag": "ABX9TyPaFyURf66s5i+4qm198b+R",
      "include_colab_link": true
    },
    "kernelspec": {
      "name": "python3",
      "display_name": "Python 3"
    },
    "language_info": {
      "name": "python"
    }
  },
  "cells": [
    {
      "cell_type": "markdown",
      "metadata": {
        "id": "view-in-github",
        "colab_type": "text"
      },
      "source": [
        "<a href=\"https://colab.research.google.com/github/SamuelAlmanza17/proyecto_samuel/blob/ejercicios-modulo-1/Ejercicio_2_Clase_2_CIP.ipynb\" target=\"_parent\"><img src=\"https://colab.research.google.com/assets/colab-badge.svg\" alt=\"Open In Colab\"/></a>"
      ]
    },
    {
      "cell_type": "code",
      "source": [
        "pais = input(\"Ingrese su pais: \")\n",
        "nombre = input(\"Ingrese su nombre: \")\n",
        "\n",
        "longitud_nombre = len(nombre)\n",
        "\n",
        "if pais.lower() == 'colombia' and  longitud_nombre < 5:\n",
        "  print(\"Perteneces al grupo Colombia A.\")\n",
        "elif pais.lower() == 'mexico' and longitud_nombre >= 5:\n",
        "    print(\"Perteneces al grupo Mexico B\")\n",
        "else:\n",
        "    print(\"Perteneces al grupo Otros\")\n",
        "\n",
        "\n"
      ],
      "metadata": {
        "id": "qVIr4zEU5_SS",
        "colab": {
          "base_uri": "https://localhost:8080/"
        },
        "outputId": "c6eba5ce-31ee-4550-a232-3d3cac7d43ad"
      },
      "execution_count": 16,
      "outputs": [
        {
          "output_type": "stream",
          "name": "stdout",
          "text": [
            "Ingrese su pais: mexico\n",
            "Ingrese su nombre: lili\n",
            "Perteneces al grupo Otros\n"
          ]
        }
      ]
    },
    {
      "cell_type": "code",
      "source": [],
      "metadata": {
        "id": "YxLgO7U38VO2"
      },
      "execution_count": null,
      "outputs": []
    }
  ]
}