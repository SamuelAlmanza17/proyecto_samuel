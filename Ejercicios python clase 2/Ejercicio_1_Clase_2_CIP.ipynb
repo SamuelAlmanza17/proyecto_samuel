{
 "cells": [
  {
   "cell_type": "markdown",
   "metadata": {
    "colab_type": "text",
    "id": "view-in-github"
   },
   "source": [
    "<a href=\"https://colab.research.google.com/github/SamuelAlmanza17/proyecto_samuel/blob/ejercicios-modulo-1/Ejercicio_1_Clase_2_CIP.ipynb\" target=\"_parent\"><img src=\"https://colab.research.google.com/assets/colab-badge.svg\" alt=\"Open In Colab\"/></a>"
   ]
  },
  {
   "cell_type": "code",
   "execution_count": 1,
   "metadata": {
    "id": "z63kk5JM5cB5"
   },
   "outputs": [],
   "source": [
    "#Ejercicio 1"
   ]
  },
  {
   "cell_type": "code",
   "execution_count": null,
   "metadata": {
    "colab": {
     "base_uri": "https://localhost:8080/"
    },
    "id": "ym-RLYKP5se4",
    "outputId": "0cafbd18-9e69-449c-db8d-d2768057d177"
   },
   "outputs": [],
   "source": [
    "edad = int (input(\"Ingrese su edad: \"))\n",
    "Nombre = (input(\"Ingrese su nombre: \"))\n",
    "\n",
    "primera_letra = Nombre[0].upper()\n",
    "\n",
    "if edad < 18 and primera_letra in 'AEIOU':\n",
    "    print(\"Perteneces al grupo 1.\")\n",
    "elif edad >= 18 and primera_letra not in 'AEIOU':\n",
    "    print(\"Perteneces al grupo 2.\")\n",
    "else:\n",
    "    print(\"Perteneces al grupo 3.\")"
   ]
  },
  {
   "cell_type": "code",
   "execution_count": null,
   "metadata": {
    "id": "qVIr4zEU5_SS"
   },
   "outputs": [],
   "source": []
  }
 ],
 "metadata": {
  "colab": {
   "authorship_tag": "ABX9TyMt/xuiQ3g8lYTZdziVBMmT",
   "include_colab_link": true,
   "provenance": []
  },
  "kernelspec": {
   "display_name": "Python 3",
   "name": "python3"
  },
  "language_info": {
   "codemirror_mode": {
    "name": "ipython",
    "version": 3
   },
   "file_extension": ".py",
   "mimetype": "text/x-python",
   "name": "python",
   "nbconvert_exporter": "python",
   "pygments_lexer": "ipython3",
   "version": "3.13.1"
  }
 },
 "nbformat": 4,
 "nbformat_minor": 0
}
